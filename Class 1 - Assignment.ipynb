{
 "cells": [
  {
   "cell_type": "markdown",
   "metadata": {},
   "source": [
    "# Class 1 Assignment"
   ]
  },
  {
   "cell_type": "code",
   "execution_count": null,
   "metadata": {},
   "outputs": [],
   "source": [
    "#Bahria university Fall 2019 Name: ? Father's Name: ? phy : ? che : ? mat : ? eng : ? urd : ? Total: ? percentage: ?"
   ]
  },
  {
   "cell_type": "code",
   "execution_count": null,
   "metadata": {},
   "outputs": [],
   "source": [
    "Name = input (\"your name\")\n",
    "Father_Name = input (\"your father name\")\n",
    "Physics = input (\"Physics marks\")\n",
    "Chemistry = input (\"Chemistry marks\")\n",
    "Maths = input (\"Maths marks\")\n",
    "English = input (\"English marks\")\n",
    "Urdu = input (\"Urdu marks\")\n",
    "num=int(input(\"how many subjects(length):\"))\n",
    "lst = []\n",
    "for n in range (num):\n",
    "    numbers = int(input(\"enter number\"))\n",
    "    lst.append(numbers)\n",
    "print(\"sum of marks in the list:\",sum(lst))\n",
    "Percentage = input (\"total percentage\")\n",
    "\n",
    "message = \"\"\"\n",
    "Bahria University Fall 2019\n",
    "Name: {}\n",
    "Father_Name : {}\n",
    "Physics : {}\n",
    "Chemistry : {}\n",
    "Maths : {}\n",
    "English : {}\n",
    "Urdu : {}\n",
    "Total : {}\n",
    "Percentage : {}\n",
    "\"\"\"\n",
    "message = message.format (Name,Father_Name,Physics,Chemistry,Maths,English,Urdu,Total,Percentage)\n",
    "print (message)"
   ]
  },
  {
   "cell_type": "code",
   "execution_count": null,
   "metadata": {},
   "outputs": [],
   "source": []
  },
  {
   "cell_type": "code",
   "execution_count": null,
   "metadata": {},
   "outputs": [],
   "source": []
  },
  {
   "cell_type": "code",
   "execution_count": null,
   "metadata": {},
   "outputs": [],
   "source": []
  },
  {
   "cell_type": "code",
   "execution_count": null,
   "metadata": {},
   "outputs": [],
   "source": []
  },
  {
   "cell_type": "code",
   "execution_count": null,
   "metadata": {},
   "outputs": [],
   "source": []
  },
  {
   "cell_type": "code",
   "execution_count": null,
   "metadata": {},
   "outputs": [],
   "source": []
  },
  {
   "cell_type": "code",
   "execution_count": null,
   "metadata": {},
   "outputs": [],
   "source": []
  },
  {
   "cell_type": "code",
   "execution_count": null,
   "metadata": {},
   "outputs": [],
   "source": []
  },
  {
   "cell_type": "code",
   "execution_count": null,
   "metadata": {},
   "outputs": [],
   "source": []
  },
  {
   "cell_type": "code",
   "execution_count": null,
   "metadata": {},
   "outputs": [],
   "source": []
  },
  {
   "cell_type": "code",
   "execution_count": null,
   "metadata": {},
   "outputs": [],
   "source": []
  },
  {
   "cell_type": "code",
   "execution_count": null,
   "metadata": {},
   "outputs": [],
   "source": []
  },
  {
   "cell_type": "code",
   "execution_count": null,
   "metadata": {},
   "outputs": [],
   "source": []
  },
  {
   "cell_type": "code",
   "execution_count": null,
   "metadata": {},
   "outputs": [],
   "source": []
  },
  {
   "cell_type": "code",
   "execution_count": null,
   "metadata": {},
   "outputs": [],
   "source": []
  },
  {
   "cell_type": "code",
   "execution_count": null,
   "metadata": {},
   "outputs": [],
   "source": []
  },
  {
   "cell_type": "code",
   "execution_count": null,
   "metadata": {},
   "outputs": [],
   "source": []
  }
 ],
 "metadata": {
  "kernelspec": {
   "display_name": "Python 3",
   "language": "python",
   "name": "python3"
  },
  "language_info": {
   "codemirror_mode": {
    "name": "ipython",
    "version": 3
   },
   "file_extension": ".py",
   "mimetype": "text/x-python",
   "name": "python",
   "nbconvert_exporter": "python",
   "pygments_lexer": "ipython3",
   "version": "3.7.1"
  }
 },
 "nbformat": 4,
 "nbformat_minor": 2
}
