{
 "cells": [
  {
   "cell_type": "code",
   "execution_count": 44,
   "metadata": {},
   "outputs": [
    {
     "name": "stdout",
     "output_type": "stream",
     "text": [
      "1\n",
      "2\n",
      "3\n",
      "4\n",
      "5\n",
      "7\n",
      "8\n"
     ]
    }
   ],
   "source": [
    "arr=[1,2,3,4,5,6,7,8]\n",
    "for elem in arr:\n",
    "    if elem % 6:\n",
    "        print(elem)   "
   ]
  },
  {
   "cell_type": "code",
   "execution_count": null,
   "metadata": {},
   "outputs": [],
   "source": [
    "'''\n",
    "loop\n",
    "variable name = [set]\n",
    "for variable name  2 in variable name:\n",
    "print (variable name 2)"
   ]
  },
  {
   "cell_type": "code",
   "execution_count": 8,
   "metadata": {},
   "outputs": [
    {
     "name": "stdout",
     "output_type": "stream",
     "text": [
      "zoya\n",
      "xoi\n"
     ]
    }
   ],
   "source": [
    "name = (\"zoya\",\"xoi\")\n",
    "for name2 in name:\n",
    "    print(name2)"
   ]
  },
  {
   "cell_type": "code",
   "execution_count": 15,
   "metadata": {},
   "outputs": [
    {
     "name": "stdout",
     "output_type": "stream",
     "text": [
      "not clean\n"
     ]
    }
   ],
   "source": [
    "cleanest_cities = [\"Cheyenne\", \"Santa Fe\", \"Tucson\",\"Great Falls\", \"Honolulu\"]\n",
    "city_to_check = \"Australia\"\n",
    "if city_to_check == cleanest_cities[0]:\n",
    "    print(\"It's one of the cleanest cities\")\n",
    "elif city_to_check == cleanest_cities[1]:\n",
    "    print(\"It's one of the cleanest cities\")\n",
    "elif city_to_check == cleanest_cities[2]:\n",
    "    print(\"It's one of the cleanest cities\")\n",
    "elif city_to_check == cleanest_cities[3]:\n",
    "    print(\"It's one of the cleanest cities\")\n",
    "elif city_to_check == cleanest_cities[4]:\n",
    "    print(\"It's one of the cleanest cities\")\n",
    "else:\n",
    "    print(\"not clean\")"
   ]
  },
  {
   "cell_type": "code",
   "execution_count": 2,
   "metadata": {},
   "outputs": [
    {
     "name": "stdout",
     "output_type": "stream",
     "text": [
      "not clean\n",
      "not clean\n",
      "It's one of the cleanest cities\n",
      "not clean\n",
      "not clean\n"
     ]
    }
   ],
   "source": [
    "cleanest_cities = [\"Cheyenne\", \"Santa Fe\", \"Tucson\",\"Great Falls\", \"Honolulu\"] \n",
    "for a_clean_city in cleanest_cities:\n",
    "    if a_clean_city == \"Tucson\":\n",
    "        print(\"It's one of the cleanest cities\")\n",
    "    else:\n",
    "        print(\"not clean\")"
   ]
  },
  {
   "cell_type": "code",
   "execution_count": 60,
   "metadata": {},
   "outputs": [
    {
     "name": "stdout",
     "output_type": "stream",
     "text": [
      "0\n"
     ]
    }
   ],
   "source": [
    "arr=[1,2,3,4,5,6,7,8]\n",
    "for arr in range(10):\n",
    "    if arr % 6 == 1:\n",
    "        break\n",
    "    print(arr)  "
   ]
  },
  {
   "cell_type": "code",
   "execution_count": 90,
   "metadata": {},
   "outputs": [
    {
     "name": "stdout",
     "output_type": "stream",
     "text": [
      "micheal\n",
      "sara\n",
      "sukray\n",
      "alice\n",
      "teabag\n",
      "lincon\n",
      "balick\n",
      "gretchen\n",
      "mahon\n",
      "tenchady\n"
     ]
    }
   ],
   "source": [
    "prison_break =\"micheal\",\"sara\",\"sukray\",\"alice\",\"teabag\",\"lincon\",\"balick\",\"gretchen\",\"mahon\",\"tenchady\"\n",
    "for season in prison_break:\n",
    "    print(season)"
   ]
  },
  {
   "cell_type": "code",
   "execution_count": 91,
   "metadata": {},
   "outputs": [
    {
     "name": "stdout",
     "output_type": "stream",
     "text": [
      "0 ('micheal', 'sara', 'sukray', 'alice', 'teabag', 'lincon', 'balick', 'gretchen', 'mahon', 'tenchady')\n",
      "1 ('micheal', 'sara', 'sukray', 'alice', 'teabag', 'lincon', 'balick', 'gretchen', 'mahon', 'tenchady')\n",
      "2 ('micheal', 'sara', 'sukray', 'alice', 'teabag', 'lincon', 'balick', 'gretchen', 'mahon', 'tenchady')\n",
      "3 ('micheal', 'sara', 'sukray', 'alice', 'teabag', 'lincon', 'balick', 'gretchen', 'mahon', 'tenchady')\n",
      "4 ('micheal', 'sara', 'sukray', 'alice', 'teabag', 'lincon', 'balick', 'gretchen', 'mahon', 'tenchady')\n",
      "5 ('micheal', 'sara', 'sukray', 'alice', 'teabag', 'lincon', 'balick', 'gretchen', 'mahon', 'tenchady')\n",
      "6 ('micheal', 'sara', 'sukray', 'alice', 'teabag', 'lincon', 'balick', 'gretchen', 'mahon', 'tenchady')\n",
      "7 ('micheal', 'sara', 'sukray', 'alice', 'teabag', 'lincon', 'balick', 'gretchen', 'mahon', 'tenchady')\n",
      "8 ('micheal', 'sara', 'sukray', 'alice', 'teabag', 'lincon', 'balick', 'gretchen', 'mahon', 'tenchady')\n",
      "9 ('micheal', 'sara', 'sukray', 'alice', 'teabag', 'lincon', 'balick', 'gretchen', 'mahon', 'tenchady')\n"
     ]
    }
   ],
   "source": [
    "for season in range(10):\n",
    "        print(season,prison_break)"
   ]
  },
  {
   "cell_type": "code",
   "execution_count": 95,
   "metadata": {},
   "outputs": [
    {
     "name": "stdout",
     "output_type": "stream",
     "text": [
      "0 ('micheal', 'sara', 'sukray', 'alice', 'teabag', 'lincon', 'balick', 'gretchen', 'mahon', 'tenchady')\n",
      "2 ('micheal', 'sara', 'sukray', 'alice', 'teabag', 'lincon', 'balick', 'gretchen', 'mahon', 'tenchady')\n",
      "4 ('micheal', 'sara', 'sukray', 'alice', 'teabag', 'lincon', 'balick', 'gretchen', 'mahon', 'tenchady')\n"
     ]
    }
   ],
   "source": [
    "for season in range(0,6,2):\n",
    "    print(season,prison_break)"
   ]
  },
  {
   "cell_type": "code",
   "execution_count": 98,
   "metadata": {},
   "outputs": [
    {
     "name": "stdout",
     "output_type": "stream",
     "text": [
      "9\n",
      "7\n",
      "5\n"
     ]
    }
   ],
   "source": [
    "numbers = 1,2,3,4,5,6,7,8,9,10\n",
    "for numbers in range(9,3,-2):\n",
    "    print (numbers)"
   ]
  },
  {
   "cell_type": "code",
   "execution_count": 101,
   "metadata": {},
   "outputs": [],
   "source": [
    "for season in range(8):\n",
    "    break"
   ]
  },
  {
   "cell_type": "code",
   "execution_count": 108,
   "metadata": {},
   "outputs": [
    {
     "name": "stdout",
     "output_type": "stream",
     "text": [
      "P\n",
      "a\n",
      "k\n",
      "i\n",
      "s\n",
      "t\n",
      "a\n",
      "n\n"
     ]
    }
   ],
   "source": [
    "country =\"Pakistan\"\n",
    "for city in country:\n",
    "    print(city)"
   ]
  },
  {
   "cell_type": "code",
   "execution_count": 126,
   "metadata": {},
   "outputs": [
    {
     "name": "stdout",
     "output_type": "stream",
     "text": [
      "micheal\n",
      "sara\n",
      "sukray\n",
      "alice\n",
      "teabag\n"
     ]
    }
   ],
   "source": [
    "prison_break =[\"micheal\",\"sara\",\"sukray\",\"alice\",\"teabag\",\"lincon\",\"balick\",\"gretchen\",\"mahon\",\"tenchady\"]\n",
    "for season in prison_break:\n",
    "    if season == \"lincon\":\n",
    "        break\n",
    "    print(season)"
   ]
  },
  {
   "cell_type": "code",
   "execution_count": 128,
   "metadata": {},
   "outputs": [
    {
     "name": "stdout",
     "output_type": "stream",
     "text": [
      "micheal\n",
      "sara\n",
      "sukray\n",
      "alice\n",
      "teabag\n",
      "balick\n",
      "gretchen\n",
      "mahon\n",
      "tenchady\n"
     ]
    }
   ],
   "source": [
    "prison_break =[\"micheal\",\"sara\",\"sukray\",\"alice\",\"teabag\",\"lincon\",\"balick\",\"gretchen\",\"mahon\",\"tenchady\"]\n",
    "for season in prison_break:\n",
    "    if season == \"lincon\":\n",
    "        continue\n",
    "    print(season)"
   ]
  },
  {
   "cell_type": "code",
   "execution_count": 138,
   "metadata": {},
   "outputs": [
    {
     "name": "stdout",
     "output_type": "stream",
     "text": [
      "3 x 1 = 3\n",
      "3 x 2 = 6\n",
      "3 x 3 = 9\n",
      "3 x 4 = 12\n",
      "3 x 5 = 15\n",
      "3 x 6 = 18\n",
      "3 x 7 = 21\n",
      "3 x 8 = 24\n",
      "3 x 9 = 27\n",
      "3 x 10 = 30\n"
     ]
    }
   ],
   "source": [
    "for j in range (1,11):\n",
    "    print(f\"3 x {j} = {3*j}\")"
   ]
  },
  {
   "cell_type": "code",
   "execution_count": null,
   "metadata": {},
   "outputs": [],
   "source": [
    "table = input(\"number\")\n",
    "table =int(table)\n",
    "for tab in range (1, table+1):\n",
    "    #for n in range (1,11):\n",
    "        print(f\"{tab} x {n} = {tab*n}\")"
   ]
  },
  {
   "cell_type": "code",
   "execution_count": 1,
   "metadata": {},
   "outputs": [
    {
     "name": "stdout",
     "output_type": "stream",
     "text": [
      "number3\n",
      "1 x 1 = 1\n",
      "1 x 2 = 2\n",
      "1 x 3 = 3\n",
      "1 x 4 = 4\n",
      "1 x 5 = 5\n",
      "1 x 6 = 6\n",
      "1 x 7 = 7\n",
      "1 x 8 = 8\n",
      "1 x 9 = 9\n",
      "1 x 10 = 10\n",
      "2 x 1 = 2\n",
      "2 x 2 = 4\n",
      "2 x 3 = 6\n",
      "2 x 4 = 8\n",
      "2 x 5 = 10\n",
      "2 x 6 = 12\n",
      "2 x 7 = 14\n",
      "2 x 8 = 16\n",
      "2 x 9 = 18\n",
      "2 x 10 = 20\n",
      "3 x 1 = 3\n",
      "3 x 2 = 6\n",
      "3 x 3 = 9\n",
      "3 x 4 = 12\n",
      "3 x 5 = 15\n",
      "3 x 6 = 18\n",
      "3 x 7 = 21\n",
      "3 x 8 = 24\n",
      "3 x 9 = 27\n",
      "3 x 10 = 30\n"
     ]
    }
   ],
   "source": [
    "table = input(\"number\")\n",
    "table =int(table)\n",
    "for tab in range (1, table+1):\n",
    "    for n in range (1,11):\n",
    "        print(f\"{tab} x {n} = {tab*n}\")"
   ]
  },
  {
   "cell_type": "code",
   "execution_count": 11,
   "metadata": {},
   "outputs": [
    {
     "name": "stdout",
     "output_type": "stream",
     "text": [
      "number3\n",
      "1 x 1 = 1\t1 x 2 = 2\t1 x 3 = 3\t1 x 4 = 4\t1 x 5 = 5\t1 x 6 = 6\t1 x 7 = 7\t1 x 8 = 8\t1 x 9 = 9\t1 x 10 = 10\t\n",
      "2 x 1 = 2\t2 x 2 = 4\t2 x 3 = 6\t2 x 4 = 8\t2 x 5 = 10\t2 x 6 = 12\t2 x 7 = 14\t2 x 8 = 16\t2 x 9 = 18\t2 x 10 = 20\t\n",
      "3 x 1 = 3\t3 x 2 = 6\t3 x 3 = 9\t3 x 4 = 12\t3 x 5 = 15\t3 x 6 = 18\t3 x 7 = 21\t3 x 8 = 24\t3 x 9 = 27\t3 x 10 = 30\t\n"
     ]
    }
   ],
   "source": [
    "table = input(\"number\")\n",
    "table =int(table)\n",
    "\n",
    "for tab in range (1, table+1):\n",
    "    for n in range (1,11):\n",
    "        print(f\"{tab} x {n} = {tab*n}\", end=\"\\t\")\n",
    "    print()"
   ]
  },
  {
   "cell_type": "code",
   "execution_count": 12,
   "metadata": {},
   "outputs": [
    {
     "name": "stdout",
     "output_type": "stream",
     "text": [
      "Enter no4\n",
      "1 X 1 = 1\t2 X 1 = 2\t3 X 1 = 3\t4 X 1 = 4\t\n",
      "1 X 2 = 2\t2 X 2 = 4\t3 X 2 = 6\t4 X 2 = 8\t\n",
      "1 X 3 = 3\t2 X 3 = 6\t3 X 3 = 9\t4 X 3 = 12\t\n",
      "1 X 4 = 4\t2 X 4 = 8\t3 X 4 = 12\t4 X 4 = 16\t\n",
      "1 X 5 = 5\t2 X 5 = 10\t3 X 5 = 15\t4 X 5 = 20\t\n",
      "1 X 6 = 6\t2 X 6 = 12\t3 X 6 = 18\t4 X 6 = 24\t\n",
      "1 X 7 = 7\t2 X 7 = 14\t3 X 7 = 21\t4 X 7 = 28\t\n",
      "1 X 8 = 8\t2 X 8 = 16\t3 X 8 = 24\t4 X 8 = 32\t\n",
      "1 X 9 = 9\t2 X 9 = 18\t3 X 9 = 27\t4 X 9 = 36\t\n",
      "1 X 10 = 10\t2 X 10 = 20\t3 X 10 = 30\t4 X 10 = 40\t\n"
     ]
    }
   ],
   "source": [
    "u = int(input(\"Enter no\"))\n",
    "\n",
    "for r in range(1,11):\n",
    "    for c in range(1, u+1):\n",
    "        print(f\"{c} X {r} = {c*r}\", end=\"\\t\")\n",
    "    print()"
   ]
  },
  {
   "cell_type": "code",
   "execution_count": 1,
   "metadata": {},
   "outputs": [
    {
     "name": "stdout",
     "output_type": "stream",
     "text": [
      "number2\n",
      "1 x 1 = 1\t2 x 1 = 2\t\n",
      "1 x 2 = 2\t2 x 2 = 4\t\n",
      "1 x 3 = 3\t2 x 3 = 6\t\n",
      "1 x 4 = 4\t2 x 4 = 8\t\n",
      "1 x 5 = 5\t2 x 5 = 10\t\n",
      "1 x 6 = 6\t2 x 6 = 12\t\n",
      "1 x 7 = 7\t2 x 7 = 14\t\n",
      "1 x 8 = 8\t2 x 8 = 16\t\n",
      "1 x 9 = 9\t2 x 9 = 18\t\n",
      "1 x 10 = 10\t2 x 10 = 20\t\n"
     ]
    }
   ],
   "source": [
    "table =input(\"number\")\n",
    "table =int(table)\n",
    "\n",
    "for n in range (1,11):\n",
    "    for tab in range (1, table+1):\n",
    "        print(f\"{tab} x {n} = {tab*n}\", end=\"\\t\")\n",
    "    print()      #2  x  1   =2*1"
   ]
  },
  {
   "cell_type": "code",
   "execution_count": 13,
   "metadata": {},
   "outputs": [
    {
     "name": "stdout",
     "output_type": "stream",
     "text": [
      "['xoi zoya']\n",
      "['xoi zoya', 'xoi akhtar']\n",
      "['xoi zoya', 'xoi akhtar', 'xoi haq']\n",
      "['xoi zoya', 'xoi akhtar', 'xoi haq', 'xoi atif']\n",
      "['xoi zoya', 'xoi akhtar', 'xoi haq', 'xoi atif', 'xoi mehmood']\n",
      "['xoi zoya', 'xoi akhtar', 'xoi haq', 'xoi atif', 'xoi mehmood', 'xoi saeed']\n",
      "['xoi zoya', 'xoi akhtar', 'xoi haq', 'xoi atif', 'xoi mehmood', 'xoi saeed', 'atif zoya']\n",
      "['xoi zoya', 'xoi akhtar', 'xoi haq', 'xoi atif', 'xoi mehmood', 'xoi saeed', 'atif zoya', 'atif akhtar']\n",
      "['xoi zoya', 'xoi akhtar', 'xoi haq', 'xoi atif', 'xoi mehmood', 'xoi saeed', 'atif zoya', 'atif akhtar', 'atif haq']\n",
      "['xoi zoya', 'xoi akhtar', 'xoi haq', 'xoi atif', 'xoi mehmood', 'xoi saeed', 'atif zoya', 'atif akhtar', 'atif haq', 'atif atif']\n",
      "['xoi zoya', 'xoi akhtar', 'xoi haq', 'xoi atif', 'xoi mehmood', 'xoi saeed', 'atif zoya', 'atif akhtar', 'atif haq', 'atif atif', 'atif mehmood']\n",
      "['xoi zoya', 'xoi akhtar', 'xoi haq', 'xoi atif', 'xoi mehmood', 'xoi saeed', 'atif zoya', 'atif akhtar', 'atif haq', 'atif atif', 'atif mehmood', 'atif saeed']\n",
      "['xoi zoya', 'xoi akhtar', 'xoi haq', 'xoi atif', 'xoi mehmood', 'xoi saeed', 'atif zoya', 'atif akhtar', 'atif haq', 'atif atif', 'atif mehmood', 'atif saeed', 'ezaz zoya']\n",
      "['xoi zoya', 'xoi akhtar', 'xoi haq', 'xoi atif', 'xoi mehmood', 'xoi saeed', 'atif zoya', 'atif akhtar', 'atif haq', 'atif atif', 'atif mehmood', 'atif saeed', 'ezaz zoya', 'ezaz akhtar']\n",
      "['xoi zoya', 'xoi akhtar', 'xoi haq', 'xoi atif', 'xoi mehmood', 'xoi saeed', 'atif zoya', 'atif akhtar', 'atif haq', 'atif atif', 'atif mehmood', 'atif saeed', 'ezaz zoya', 'ezaz akhtar', 'ezaz haq']\n",
      "['xoi zoya', 'xoi akhtar', 'xoi haq', 'xoi atif', 'xoi mehmood', 'xoi saeed', 'atif zoya', 'atif akhtar', 'atif haq', 'atif atif', 'atif mehmood', 'atif saeed', 'ezaz zoya', 'ezaz akhtar', 'ezaz haq', 'ezaz atif']\n",
      "['xoi zoya', 'xoi akhtar', 'xoi haq', 'xoi atif', 'xoi mehmood', 'xoi saeed', 'atif zoya', 'atif akhtar', 'atif haq', 'atif atif', 'atif mehmood', 'atif saeed', 'ezaz zoya', 'ezaz akhtar', 'ezaz haq', 'ezaz atif', 'ezaz mehmood']\n",
      "['xoi zoya', 'xoi akhtar', 'xoi haq', 'xoi atif', 'xoi mehmood', 'xoi saeed', 'atif zoya', 'atif akhtar', 'atif haq', 'atif atif', 'atif mehmood', 'atif saeed', 'ezaz zoya', 'ezaz akhtar', 'ezaz haq', 'ezaz atif', 'ezaz mehmood', 'ezaz saeed']\n",
      "['xoi zoya', 'xoi akhtar', 'xoi haq', 'xoi atif', 'xoi mehmood', 'xoi saeed', 'atif zoya', 'atif akhtar', 'atif haq', 'atif atif', 'atif mehmood', 'atif saeed', 'ezaz zoya', 'ezaz akhtar', 'ezaz haq', 'ezaz atif', 'ezaz mehmood', 'ezaz saeed', 'vijdan zoya']\n",
      "['xoi zoya', 'xoi akhtar', 'xoi haq', 'xoi atif', 'xoi mehmood', 'xoi saeed', 'atif zoya', 'atif akhtar', 'atif haq', 'atif atif', 'atif mehmood', 'atif saeed', 'ezaz zoya', 'ezaz akhtar', 'ezaz haq', 'ezaz atif', 'ezaz mehmood', 'ezaz saeed', 'vijdan zoya', 'vijdan akhtar']\n",
      "['xoi zoya', 'xoi akhtar', 'xoi haq', 'xoi atif', 'xoi mehmood', 'xoi saeed', 'atif zoya', 'atif akhtar', 'atif haq', 'atif atif', 'atif mehmood', 'atif saeed', 'ezaz zoya', 'ezaz akhtar', 'ezaz haq', 'ezaz atif', 'ezaz mehmood', 'ezaz saeed', 'vijdan zoya', 'vijdan akhtar', 'vijdan haq']\n",
      "['xoi zoya', 'xoi akhtar', 'xoi haq', 'xoi atif', 'xoi mehmood', 'xoi saeed', 'atif zoya', 'atif akhtar', 'atif haq', 'atif atif', 'atif mehmood', 'atif saeed', 'ezaz zoya', 'ezaz akhtar', 'ezaz haq', 'ezaz atif', 'ezaz mehmood', 'ezaz saeed', 'vijdan zoya', 'vijdan akhtar', 'vijdan haq', 'vijdan atif']\n",
      "['xoi zoya', 'xoi akhtar', 'xoi haq', 'xoi atif', 'xoi mehmood', 'xoi saeed', 'atif zoya', 'atif akhtar', 'atif haq', 'atif atif', 'atif mehmood', 'atif saeed', 'ezaz zoya', 'ezaz akhtar', 'ezaz haq', 'ezaz atif', 'ezaz mehmood', 'ezaz saeed', 'vijdan zoya', 'vijdan akhtar', 'vijdan haq', 'vijdan atif', 'vijdan mehmood']\n",
      "['xoi zoya', 'xoi akhtar', 'xoi haq', 'xoi atif', 'xoi mehmood', 'xoi saeed', 'atif zoya', 'atif akhtar', 'atif haq', 'atif atif', 'atif mehmood', 'atif saeed', 'ezaz zoya', 'ezaz akhtar', 'ezaz haq', 'ezaz atif', 'ezaz mehmood', 'ezaz saeed', 'vijdan zoya', 'vijdan akhtar', 'vijdan haq', 'vijdan atif', 'vijdan mehmood', 'vijdan saeed']\n",
      "['xoi zoya', 'xoi akhtar', 'xoi haq', 'xoi atif', 'xoi mehmood', 'xoi saeed', 'atif zoya', 'atif akhtar', 'atif haq', 'atif atif', 'atif mehmood', 'atif saeed', 'ezaz zoya', 'ezaz akhtar', 'ezaz haq', 'ezaz atif', 'ezaz mehmood', 'ezaz saeed', 'vijdan zoya', 'vijdan akhtar', 'vijdan haq', 'vijdan atif', 'vijdan mehmood', 'vijdan saeed', 'farah zoya']\n",
      "['xoi zoya', 'xoi akhtar', 'xoi haq', 'xoi atif', 'xoi mehmood', 'xoi saeed', 'atif zoya', 'atif akhtar', 'atif haq', 'atif atif', 'atif mehmood', 'atif saeed', 'ezaz zoya', 'ezaz akhtar', 'ezaz haq', 'ezaz atif', 'ezaz mehmood', 'ezaz saeed', 'vijdan zoya', 'vijdan akhtar', 'vijdan haq', 'vijdan atif', 'vijdan mehmood', 'vijdan saeed', 'farah zoya', 'farah akhtar']\n",
      "['xoi zoya', 'xoi akhtar', 'xoi haq', 'xoi atif', 'xoi mehmood', 'xoi saeed', 'atif zoya', 'atif akhtar', 'atif haq', 'atif atif', 'atif mehmood', 'atif saeed', 'ezaz zoya', 'ezaz akhtar', 'ezaz haq', 'ezaz atif', 'ezaz mehmood', 'ezaz saeed', 'vijdan zoya', 'vijdan akhtar', 'vijdan haq', 'vijdan atif', 'vijdan mehmood', 'vijdan saeed', 'farah zoya', 'farah akhtar', 'farah haq']\n",
      "['xoi zoya', 'xoi akhtar', 'xoi haq', 'xoi atif', 'xoi mehmood', 'xoi saeed', 'atif zoya', 'atif akhtar', 'atif haq', 'atif atif', 'atif mehmood', 'atif saeed', 'ezaz zoya', 'ezaz akhtar', 'ezaz haq', 'ezaz atif', 'ezaz mehmood', 'ezaz saeed', 'vijdan zoya', 'vijdan akhtar', 'vijdan haq', 'vijdan atif', 'vijdan mehmood', 'vijdan saeed', 'farah zoya', 'farah akhtar', 'farah haq', 'farah atif']\n",
      "['xoi zoya', 'xoi akhtar', 'xoi haq', 'xoi atif', 'xoi mehmood', 'xoi saeed', 'atif zoya', 'atif akhtar', 'atif haq', 'atif atif', 'atif mehmood', 'atif saeed', 'ezaz zoya', 'ezaz akhtar', 'ezaz haq', 'ezaz atif', 'ezaz mehmood', 'ezaz saeed', 'vijdan zoya', 'vijdan akhtar', 'vijdan haq', 'vijdan atif', 'vijdan mehmood', 'vijdan saeed', 'farah zoya', 'farah akhtar', 'farah haq', 'farah atif', 'farah mehmood']\n",
      "['xoi zoya', 'xoi akhtar', 'xoi haq', 'xoi atif', 'xoi mehmood', 'xoi saeed', 'atif zoya', 'atif akhtar', 'atif haq', 'atif atif', 'atif mehmood', 'atif saeed', 'ezaz zoya', 'ezaz akhtar', 'ezaz haq', 'ezaz atif', 'ezaz mehmood', 'ezaz saeed', 'vijdan zoya', 'vijdan akhtar', 'vijdan haq', 'vijdan atif', 'vijdan mehmood', 'vijdan saeed', 'farah zoya', 'farah akhtar', 'farah haq', 'farah atif', 'farah mehmood', 'farah saeed']\n",
      "['xoi zoya', 'xoi akhtar', 'xoi haq', 'xoi atif', 'xoi mehmood', 'xoi saeed', 'atif zoya', 'atif akhtar', 'atif haq', 'atif atif', 'atif mehmood', 'atif saeed', 'ezaz zoya', 'ezaz akhtar', 'ezaz haq', 'ezaz atif', 'ezaz mehmood', 'ezaz saeed', 'vijdan zoya', 'vijdan akhtar', 'vijdan haq', 'vijdan atif', 'vijdan mehmood', 'vijdan saeed', 'farah zoya', 'farah akhtar', 'farah haq', 'farah atif', 'farah mehmood', 'farah saeed', 'zoya zoya']\n",
      "['xoi zoya', 'xoi akhtar', 'xoi haq', 'xoi atif', 'xoi mehmood', 'xoi saeed', 'atif zoya', 'atif akhtar', 'atif haq', 'atif atif', 'atif mehmood', 'atif saeed', 'ezaz zoya', 'ezaz akhtar', 'ezaz haq', 'ezaz atif', 'ezaz mehmood', 'ezaz saeed', 'vijdan zoya', 'vijdan akhtar', 'vijdan haq', 'vijdan atif', 'vijdan mehmood', 'vijdan saeed', 'farah zoya', 'farah akhtar', 'farah haq', 'farah atif', 'farah mehmood', 'farah saeed', 'zoya zoya', 'zoya akhtar']\n",
      "['xoi zoya', 'xoi akhtar', 'xoi haq', 'xoi atif', 'xoi mehmood', 'xoi saeed', 'atif zoya', 'atif akhtar', 'atif haq', 'atif atif', 'atif mehmood', 'atif saeed', 'ezaz zoya', 'ezaz akhtar', 'ezaz haq', 'ezaz atif', 'ezaz mehmood', 'ezaz saeed', 'vijdan zoya', 'vijdan akhtar', 'vijdan haq', 'vijdan atif', 'vijdan mehmood', 'vijdan saeed', 'farah zoya', 'farah akhtar', 'farah haq', 'farah atif', 'farah mehmood', 'farah saeed', 'zoya zoya', 'zoya akhtar', 'zoya haq']\n",
      "['xoi zoya', 'xoi akhtar', 'xoi haq', 'xoi atif', 'xoi mehmood', 'xoi saeed', 'atif zoya', 'atif akhtar', 'atif haq', 'atif atif', 'atif mehmood', 'atif saeed', 'ezaz zoya', 'ezaz akhtar', 'ezaz haq', 'ezaz atif', 'ezaz mehmood', 'ezaz saeed', 'vijdan zoya', 'vijdan akhtar', 'vijdan haq', 'vijdan atif', 'vijdan mehmood', 'vijdan saeed', 'farah zoya', 'farah akhtar', 'farah haq', 'farah atif', 'farah mehmood', 'farah saeed', 'zoya zoya', 'zoya akhtar', 'zoya haq', 'zoya atif']\n",
      "['xoi zoya', 'xoi akhtar', 'xoi haq', 'xoi atif', 'xoi mehmood', 'xoi saeed', 'atif zoya', 'atif akhtar', 'atif haq', 'atif atif', 'atif mehmood', 'atif saeed', 'ezaz zoya', 'ezaz akhtar', 'ezaz haq', 'ezaz atif', 'ezaz mehmood', 'ezaz saeed', 'vijdan zoya', 'vijdan akhtar', 'vijdan haq', 'vijdan atif', 'vijdan mehmood', 'vijdan saeed', 'farah zoya', 'farah akhtar', 'farah haq', 'farah atif', 'farah mehmood', 'farah saeed', 'zoya zoya', 'zoya akhtar', 'zoya haq', 'zoya atif', 'zoya mehmood']\n",
      "['xoi zoya', 'xoi akhtar', 'xoi haq', 'xoi atif', 'xoi mehmood', 'xoi saeed', 'atif zoya', 'atif akhtar', 'atif haq', 'atif atif', 'atif mehmood', 'atif saeed', 'ezaz zoya', 'ezaz akhtar', 'ezaz haq', 'ezaz atif', 'ezaz mehmood', 'ezaz saeed', 'vijdan zoya', 'vijdan akhtar', 'vijdan haq', 'vijdan atif', 'vijdan mehmood', 'vijdan saeed', 'farah zoya', 'farah akhtar', 'farah haq', 'farah atif', 'farah mehmood', 'farah saeed', 'zoya zoya', 'zoya akhtar', 'zoya haq', 'zoya atif', 'zoya mehmood', 'zoya saeed']\n"
     ]
    }
   ],
   "source": [
    "first_name= [\"xoi\",\"atif\",\"ezaz\",\"vijdan\",\"farah\",\"zoya\"]\n",
    "last_name = [\"zoya\",\"akhtar\",\"haq\",\"atif\",\"mehmood\",\"saeed\"]\n",
    "full_name = []\n",
    "for name1 in first_name:\n",
    "    for name2 in last_name:\n",
    "        full_name.append(name1 + \" \" + name2)\n",
    "        print (full_name)\n",
    "        "
   ]
  },
  {
   "cell_type": "code",
   "execution_count": 14,
   "metadata": {},
   "outputs": [
    {
     "name": "stdout",
     "output_type": "stream",
     "text": [
      "xoi zoya\n",
      "xoi akhtar\n",
      "xoi haq\n",
      "xoi atif\n",
      "xoi mehmood\n",
      "xoi saeed\n",
      "atif zoya\n",
      "atif akhtar\n",
      "atif haq\n",
      "atif atif\n",
      "atif mehmood\n",
      "atif saeed\n",
      "ezaz zoya\n",
      "ezaz akhtar\n",
      "ezaz haq\n",
      "ezaz atif\n",
      "ezaz mehmood\n",
      "ezaz saeed\n",
      "vijdan zoya\n",
      "vijdan akhtar\n",
      "vijdan haq\n",
      "vijdan atif\n",
      "vijdan mehmood\n",
      "vijdan saeed\n",
      "farah zoya\n",
      "farah akhtar\n",
      "farah haq\n",
      "farah atif\n",
      "farah mehmood\n",
      "farah saeed\n",
      "zoya zoya\n",
      "zoya akhtar\n",
      "zoya haq\n",
      "zoya atif\n",
      "zoya mehmood\n",
      "zoya saeed\n"
     ]
    }
   ],
   "source": [
    "first_name= [\"xoi\",\"atif\",\"ezaz\",\"vijdan\",\"farah\",\"zoya\"]\n",
    "last_name = [\"zoya\",\"akhtar\",\"haq\",\"atif\",\"mehmood\",\"saeed\"]\n",
    "full_name = []\n",
    "for name1 in first_name:\n",
    "    for name2 in last_name:\n",
    "        full_name= (name1 + \" \" + name2)\n",
    "        print (full_name)"
   ]
  },
  {
   "cell_type": "code",
   "execution_count": 4,
   "metadata": {},
   "outputs": [
    {
     "name": "stdout",
     "output_type": "stream",
     "text": [
      "full namezoya\n",
      "zoya\n"
     ]
    }
   ],
   "source": [
    "name = str(input(\"full name\"))\n",
    "print(name)"
   ]
  },
  {
   "cell_type": "code",
   "execution_count": 5,
   "metadata": {},
   "outputs": [],
   "source": [
    "x = 2,11"
   ]
  },
  {
   "cell_type": "code",
   "execution_count": 20,
   "metadata": {},
   "outputs": [
    {
     "name": "stdout",
     "output_type": "stream",
     "text": [
      "enter number2\n",
      "1 x 1 = 1\n",
      "1 x 2 = 2\n",
      "1 x 3 = 3\n",
      "1 x 4 = 4\n",
      "1 x 5 = 5\n",
      "1 x 6 = 6\n",
      "1 x 7 = 7\n",
      "1 x 8 = 8\n",
      "1 x 9 = 9\n",
      "1 x 10 = 10\n",
      "2 x 1 = 2\n",
      "2 x 2 = 4\n",
      "2 x 3 = 6\n",
      "2 x 4 = 8\n",
      "2 x 5 = 10\n",
      "2 x 6 = 12\n",
      "2 x 7 = 14\n",
      "2 x 8 = 16\n",
      "2 x 9 = 18\n",
      "2 x 10 = 20\n"
     ]
    }
   ],
   "source": [
    "table = int(input(\"enter number\"))\n",
    "for tab in range(1,table+1):\n",
    "    for n in range (1,11):\n",
    "        print(f\"{tab} x {n} = {n*tab}\")"
   ]
  },
  {
   "cell_type": "code",
   "execution_count": 21,
   "metadata": {},
   "outputs": [
    {
     "name": "stdout",
     "output_type": "stream",
     "text": [
      "number5\n",
      "1 x 10 = 10\n",
      "2 x 10 = 20\n",
      "3 x 10 = 30\n",
      "4 x 10 = 40\n",
      "5 x 10 = 50\n"
     ]
    }
   ],
   "source": [
    "table = input(\"number\")\n",
    "table =int(table)\n",
    "for tab in range (1, table+1):\n",
    "    #for n in range (1,11):\n",
    "        print(f\"{tab} x {n} = {tab*n}\")"
   ]
  },
  {
   "cell_type": "code",
   "execution_count": null,
   "metadata": {},
   "outputs": [],
   "source": []
  }
 ],
 "metadata": {
  "kernelspec": {
   "display_name": "Python 3",
   "language": "python",
   "name": "python3"
  },
  "language_info": {
   "codemirror_mode": {
    "name": "ipython",
    "version": 3
   },
   "file_extension": ".py",
   "mimetype": "text/x-python",
   "name": "python",
   "nbconvert_exporter": "python",
   "pygments_lexer": "ipython3",
   "version": "3.7.1"
  }
 },
 "nbformat": 4,
 "nbformat_minor": 2
}
