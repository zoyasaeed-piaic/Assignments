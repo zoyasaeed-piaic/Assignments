{
 "cells": [
  {
   "cell_type": "code",
   "execution_count": 1,
   "metadata": {},
   "outputs": [
    {
     "name": "stdout",
     "output_type": "stream",
     "text": [
      "true\n"
     ]
    }
   ],
   "source": [
    "l1 = [1,2,3,4]\n",
    "l2 = [5,6,8,9]\n",
    "if l1 < l2:\n",
    "    print(\"true\")\n",
    "else:\n",
    "    print(\"false\")"
   ]
  },
  {
   "cell_type": "code",
   "execution_count": 45,
   "metadata": {},
   "outputs": [
    {
     "name": "stdout",
     "output_type": "stream",
     "text": [
      "not valid\n",
      "not valid\n",
      "not valid\n",
      "not valid\n"
     ]
    }
   ],
   "source": [
    "l1 = [1,2,3,4]\n",
    "l2 = [5,6,8,9]\n",
    "for l3 in l1:\n",
    "    if l3 > 10:\n",
    "        print(\"true\")\n",
    "for l4 in l2:\n",
    "    if l4 > 9:\n",
    "        print(\"false\")\n",
    "    else:print(\"not valid\")"
   ]
  },
  {
   "cell_type": "code",
   "execution_count": 14,
   "metadata": {},
   "outputs": [
    {
     "name": "stdout",
     "output_type": "stream",
     "text": [
      "14\n"
     ]
    }
   ],
   "source": [
    "outer_loop_total = 0\n",
    "inner_loop_total = 0\n",
    "countries = [\"Albania\", \"Morocco\", \"Brazil\", \"Denmark\"]\n",
    "capitals = [\"Tel Aviv\", \"Abuja\", \"Brasília\", \"Islamabad\"]\n",
    "for country_to_check in countries:\n",
    "  outer_loop_total += 1\n",
    "  for city_to_check in capitals:\n",
    "    inner_loop_total += 1\n",
    "    if country_to_check == \"Brazil\" and city_to_check == \"Brasília\":\n",
    "      print(outer_loop_total + inner_loop_total)"
   ]
  },
  {
   "cell_type": "code",
   "execution_count": 18,
   "metadata": {},
   "outputs": [
    {
     "name": "stdout",
     "output_type": "stream",
     "text": [
      "8\n",
      "9\n",
      "10\n",
      "11\n",
      "12\n",
      "9\n",
      "10\n",
      "11\n",
      "12\n",
      "13\n",
      "10\n",
      "11\n",
      "12\n",
      "13\n",
      "14\n",
      "11\n",
      "12\n",
      "13\n",
      "14\n",
      "15\n",
      "12\n",
      "13\n",
      "14\n",
      "15\n",
      "16\n",
      "13\n",
      "14\n",
      "15\n",
      "16\n",
      "17\n"
     ]
    }
   ],
   "source": [
    "b = [1, 2, 3, 4, 5, 6]\n",
    "d = [7, 8, 9, 10, 11]\n",
    "for a in b:\n",
    "    for c in d:\n",
    "        print(a + c)"
   ]
  },
  {
   "cell_type": "code",
   "execution_count": 20,
   "metadata": {},
   "outputs": [
    {
     "name": "stdout",
     "output_type": "stream",
     "text": [
      "7\n",
      "8\n",
      "9\n",
      "10\n",
      "11\n",
      "7\n",
      "8\n",
      "9\n",
      "10\n",
      "11\n",
      "7\n",
      "8\n",
      "9\n",
      "10\n",
      "11\n",
      "7\n",
      "8\n",
      "9\n",
      "10\n",
      "11\n",
      "7\n",
      "8\n",
      "9\n",
      "10\n",
      "11\n",
      "7\n",
      "8\n",
      "9\n",
      "10\n",
      "11\n"
     ]
    }
   ],
   "source": [
    "b = [1, 2, 3, 4, 5, 6]\n",
    "d = [7, 8, 9, 10, 11]\n",
    "for a in b:\n",
    "  for c in d:\n",
    "    print(c)"
   ]
  },
  {
   "cell_type": "code",
   "execution_count": 1,
   "metadata": {},
   "outputs": [
    {
     "name": "stdout",
     "output_type": "stream",
     "text": [
      "ok\n"
     ]
    }
   ],
   "source": [
    "nums = (1, 2, 3, 4, 5, 6)\n",
    "strings = (\"a\", \"b\", \"c\", \"d\", \"e\")\n",
    "for a_nums in nums:\n",
    "  if a_nums == 4:\n",
    "    for a_strings in strings:\n",
    "      if a_strings == \"e\":\n",
    "        print(\"ok\")"
   ]
  },
  {
   "cell_type": "code",
   "execution_count": null,
   "metadata": {},
   "outputs": [],
   "source": [
    "cleanest_cities = [\"Cheyenne\", \"cheyenne\", \"Santa Fe\", \"santa fe\", \"Tucson\", \"tucson\", \"Great Falls\",\"great falls\", \"Honolulu\", \"honolulu\"]\n",
    "city_to_check = input(\"Enter your city: \")\n",
    "#city_to_check = city_to_check.lower()\n",
    "#cleanest_cities = [\"cheyenne\", \"santa fe\",\"tucson\", \"great falls\", \"honolulu\"]\n",
    "for a_clean_city in cleanest_cities:\n",
    "    if city_to_check == a_clean_city:\n",
    "        print(\"It's one of the cleanest cities\")\n",
    "    #else:\n",
    "        #print(\"Not the cleanest city\")"
   ]
  },
  {
   "cell_type": "code",
   "execution_count": 1,
   "metadata": {},
   "outputs": [
    {
     "name": "stdout",
     "output_type": "stream",
     "text": [
      "what is your name?feslkfjk\n",
      "please let your age?fefj\n"
     ]
    },
    {
     "ename": "ValueError",
     "evalue": "invalid literal for int() with base 10: 'fefj'",
     "output_type": "error",
     "traceback": [
      "\u001b[1;31m---------------------------------------------------------------------------\u001b[0m",
      "\u001b[1;31mValueError\u001b[0m                                Traceback (most recent call last)",
      "\u001b[1;32m<ipython-input-1-28c11eb00654>\u001b[0m in \u001b[0;36m<module>\u001b[1;34m\u001b[0m\n\u001b[0;32m      1\u001b[0m \u001b[0mName\u001b[0m \u001b[1;33m=\u001b[0m \u001b[0minput\u001b[0m\u001b[1;33m(\u001b[0m\u001b[1;34m\"what is your name?\"\u001b[0m\u001b[1;33m)\u001b[0m\u001b[1;33m\u001b[0m\u001b[1;33m\u001b[0m\u001b[0m\n\u001b[1;32m----> 2\u001b[1;33m \u001b[0mAge\u001b[0m \u001b[1;33m=\u001b[0m \u001b[0mint\u001b[0m\u001b[1;33m(\u001b[0m\u001b[0minput\u001b[0m\u001b[1;33m(\u001b[0m\u001b[1;34m\"please let your age?\"\u001b[0m\u001b[1;33m)\u001b[0m\u001b[1;33m)\u001b[0m\u001b[1;33m\u001b[0m\u001b[1;33m\u001b[0m\u001b[0m\n\u001b[0m\u001b[0;32m      3\u001b[0m \u001b[0mGender\u001b[0m \u001b[1;33m=\u001b[0m \u001b[0minput\u001b[0m\u001b[1;33m(\u001b[0m\u001b[1;34m\"your gender?\"\u001b[0m\u001b[1;33m)\u001b[0m\u001b[1;33m\u001b[0m\u001b[1;33m\u001b[0m\u001b[0m\n\u001b[0;32m      4\u001b[0m \u001b[0mHighest_Education\u001b[0m \u001b[1;33m=\u001b[0m \u001b[0minput\u001b[0m\u001b[1;33m(\u001b[0m\u001b[1;34m\"your education?\"\u001b[0m\u001b[1;33m)\u001b[0m\u001b[1;33m\u001b[0m\u001b[1;33m\u001b[0m\u001b[0m\n\u001b[0;32m      5\u001b[0m \u001b[0mmessage\u001b[0m \u001b[1;33m=\u001b[0m \u001b[1;33m(\u001b[0m\u001b[1;33m{\u001b[0m\u001b[0mName\u001b[0m\u001b[1;33m}\u001b[0m\u001b[1;33m,\u001b[0m\u001b[1;33m{\u001b[0m\u001b[0mAge\u001b[0m\u001b[1;33m}\u001b[0m\u001b[1;33m,\u001b[0m\u001b[1;33m{\u001b[0m\u001b[0mGender\u001b[0m\u001b[1;33m}\u001b[0m\u001b[1;33m,\u001b[0m\u001b[1;33m{\u001b[0m\u001b[0mHighest_Education\u001b[0m\u001b[1;33m}\u001b[0m\u001b[1;33m)\u001b[0m\u001b[1;33m\u001b[0m\u001b[1;33m\u001b[0m\u001b[0m\n",
      "\u001b[1;31mValueError\u001b[0m: invalid literal for int() with base 10: 'fefj'"
     ]
    }
   ],
   "source": [
    "Name = input(\"what is your name?\")\n",
    "Age = int(input(\"please let your age?\"))\n",
    "Gender = input(\"your gender?\")\n",
    "Highest_Education = input(\"your education?\")\n",
    "message = ({Name},{Age},{Gender},{Highest_Education})\n",
    "\n",
    "print=(message) "
   ]
  },
  {
   "cell_type": "code",
   "execution_count": 8,
   "metadata": {},
   "outputs": [
    {
     "name": "stdout",
     "output_type": "stream",
     "text": [
      "display nameimran khan\n",
      "IMRAN KHAN\n"
     ]
    }
   ],
   "source": [
    "names = input(\"display name\")\n",
    "names=names.upper()\n",
    "print (names)"
   ]
  },
  {
   "cell_type": "code",
   "execution_count": 10,
   "metadata": {},
   "outputs": [
    {
     "name": "stdout",
     "output_type": "stream",
     "text": [
      "display nameprofessor\n",
      "professor\n"
     ]
    }
   ],
   "source": [
    "names = input(\"display name\")\n",
    "names=names.lower()\n",
    "print (names)"
   ]
  },
  {
   "cell_type": "code",
   "execution_count": 1,
   "metadata": {},
   "outputs": [
    {
     "name": "stdout",
     "output_type": "stream",
     "text": [
      "display namezoya\n",
      "Zoya\n"
     ]
    }
   ],
   "source": [
    "names = input(\"display name\")\n",
    "names=names.title()\n",
    "print (names)"
   ]
  },
  {
   "cell_type": "code",
   "execution_count": 4,
   "metadata": {},
   "outputs": [
    {
     "name": "stdout",
     "output_type": "stream",
     "text": [
      "ABROGAST\n"
     ]
    }
   ],
   "source": [
    "name = \"aBRogasT\"\n",
    "allname = name.upper()\n",
    "print(allname)"
   ]
  },
  {
   "cell_type": "code",
   "execution_count": 9,
   "metadata": {},
   "outputs": [
    {
     "name": "stdout",
     "output_type": "stream",
     "text": [
      "APPLE\n",
      "apple\n",
      "Apple\n"
     ]
    }
   ],
   "source": [
    "google = \"apple\"\n",
    "googlepak = google.upper()\n",
    "googlee = googlepak.lower()\n",
    "x = googlee.title()\n",
    "print(googlepak)\n",
    "print(googlee)\n",
    "print(x)"
   ]
  },
  {
   "cell_type": "code",
   "execution_count": 29,
   "metadata": {},
   "outputs": [
    {
     "name": "stdout",
     "output_type": "stream",
     "text": [
      "ahmed\n"
     ]
    }
   ],
   "source": [
    "l1 =\"AHMED, SARA, ZOYA, HAMMAD, SANA\"\n",
    "for l1 in l2:\n",
    "    l2=l2.lower()\n",
    "print(l2)"
   ]
  },
  {
   "cell_type": "code",
   "execution_count": 31,
   "metadata": {},
   "outputs": [
    {
     "data": {
      "text/plain": [
       "'Ahmed, Sara, Zoya, Hammad, Sana'"
      ]
     },
     "execution_count": 31,
     "metadata": {},
     "output_type": "execute_result"
    }
   ],
   "source": [
    "l1 =\"AHMED, SARA, ZOYA, HAMMAD, SANA\"\n",
    "l1=l1.title()\n",
    "l1"
   ]
  },
  {
   "cell_type": "code",
   "execution_count": 32,
   "metadata": {},
   "outputs": [
    {
     "name": "stdout",
     "output_type": "stream",
     "text": [
      "cairo\n",
      "turin\n",
      "manila\n",
      "reykjavik\n",
      "rio\n",
      "johannesburg\n",
      "melbourne\n"
     ]
    }
   ],
   "source": [
    "cities = [\"cairo\", \"Turin\", \"manila\", \"Reykjavik\", \"riO\", \"JOHANNESBURG\", \"mELbourNE\"]\n",
    "for city in cities:\n",
    "  city=city.lower()\n",
    "  print(city)"
   ]
  }
 ],
 "metadata": {
  "kernelspec": {
   "display_name": "Python 3",
   "language": "python",
   "name": "python3"
  },
  "language_info": {
   "codemirror_mode": {
    "name": "ipython",
    "version": 3
   },
   "file_extension": ".py",
   "mimetype": "text/x-python",
   "name": "python",
   "nbconvert_exporter": "python",
   "pygments_lexer": "ipython3",
   "version": "3.7.1"
  }
 },
 "nbformat": 4,
 "nbformat_minor": 4
}
