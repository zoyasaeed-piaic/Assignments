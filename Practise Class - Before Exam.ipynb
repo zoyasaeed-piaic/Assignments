{
 "cells": [
  {
   "cell_type": "code",
   "execution_count": null,
   "metadata": {},
   "outputs": [],
   "source": [
    "sub1=int(input(\"Enter marks for 1st subject:\"))\n",
    "sub2=int(input(\"Enter marks for 2nd subject:\"))\n",
    "sub3=int(input(\"Enter marks for 3rd subject:\"))  \n",
    "sub4=int(input(\"Enter marks for 4th subject:\"))\n",
    "total = sub1+sub2+sub3+sub4\n",
    "avg=total/5\n",
    "#grade = input(\"Enter Grade Marks:  \")\n",
    "\n",
    "if avg >= 90:\n",
    "   print(\"A\")\n",
    "elif avg >= 80:\n",
    "   print(\"B\")\n",
    "elif avg >= 70:\n",
    "   print(\"C\")\n",
    "elif avg >= 60:\n",
    "   print(\"D\")\n",
    "else:\n",
    "   print(\"E\")"
   ]
  },
  {
   "cell_type": "code",
   "execution_count": 11,
   "metadata": {},
   "outputs": [
    {
     "name": "stdout",
     "output_type": "stream",
     "text": [
      "my birthday is on jan3\n"
     ]
    }
   ],
   "source": [
    "months = [\"jan\",\"feb\",\"march\",\"april\"]\n",
    "date = [\"1\",\"2\",\"3\"]\n",
    "my_birthday = (\"my birthday is on\"+ \" \" + months[0] + date [2])\n",
    "print(my_birthday)"
   ]
  },
  {
   "cell_type": "code",
   "execution_count": 12,
   "metadata": {},
   "outputs": [
    {
     "name": "stdout",
     "output_type": "stream",
     "text": [
      "3\n"
     ]
    }
   ],
   "source": [
    "date = [1,2,3,4]\n",
    "print (date [2])"
   ]
  },
  {
   "cell_type": "code",
   "execution_count": 1,
   "metadata": {},
   "outputs": [
    {
     "name": "stdout",
     "output_type": "stream",
     "text": [
      "['sheroo', 'gultair', 'german shepard', 'husky', 'pointer', 'sheroo']\n"
     ]
    }
   ],
   "source": [
    "dogs=[\"gultair\",\"german shepard\",\"husky\",\"pointer\"]\n",
    "names=[\"shadow\",\"skyee\"]\n",
    "#text = (\"my dog name is\" + \" \"+names[0]+ \" \"+ dogs[0])\n",
    "dogs.append (\"sheroo\")\n",
    "dogs.insert(0,\"sheroo\")\n",
    "print(dogs)\n"
   ]
  },
  {
   "cell_type": "code",
   "execution_count": 31,
   "metadata": {},
   "outputs": [
    {
     "name": "stdout",
     "output_type": "stream",
     "text": [
      "{False, 'Ali', 200, 'Hamza', 'Junaid'}\n",
      "<class 'set'>\n"
     ]
    }
   ],
   "source": [
    "names ={\"Ali\",\"Hamza\",\"Junaid\",200,False}\n",
    "\n",
    "print(names)\n",
    "#print(names[-1])\n",
    "print(type(names))\n",
    "\n",
    "#set\n",
    "#list\n",
    "#tuple"
   ]
  },
  {
   "cell_type": "code",
   "execution_count": 5,
   "metadata": {},
   "outputs": [
    {
     "name": "stdout",
     "output_type": "stream",
     "text": [
      "['marie', 'choclato', 'click', 'tuc']\n",
      "['marie', 'choclato', 'click', 'tuc', 'lemon sandwich']\n",
      "['marie', 'choclato', 'sooper', 'click', 'tuc', 'lemon sandwich']\n"
     ]
    }
   ],
   "source": [
    "biscuits =[\"marie\",\"choclato\",\"click\",\"tuc\"]\n",
    "print(biscuits)\n",
    "biscuits.append(\"lemon sandwich\")\n",
    "print(biscuits)\n",
    "biscuits.insert(2,\"sooper\")\n",
    "print(biscuits)"
   ]
  },
  {
   "cell_type": "code",
   "execution_count": 15,
   "metadata": {},
   "outputs": [
    {
     "name": "stdout",
     "output_type": "stream",
     "text": [
      "['sun', 'moon', 'stars', 'planets', 'stars', 'jupiter']\n"
     ]
    }
   ],
   "source": [
    "x = [\"sun\",\"moon\",\"stars\",\"planets\"]\n",
    "x = x + [\"stars\",\"jupiter\"]\n",
    "print(x)"
   ]
  }
 ],
 "metadata": {
  "kernelspec": {
   "display_name": "Python 3",
   "language": "python",
   "name": "python3"
  },
  "language_info": {
   "codemirror_mode": {
    "name": "ipython",
    "version": 3
   },
   "file_extension": ".py",
   "mimetype": "text/x-python",
   "name": "python",
   "nbconvert_exporter": "python",
   "pygments_lexer": "ipython3",
   "version": "3.7.1"
  }
 },
 "nbformat": 4,
 "nbformat_minor": 2
}
