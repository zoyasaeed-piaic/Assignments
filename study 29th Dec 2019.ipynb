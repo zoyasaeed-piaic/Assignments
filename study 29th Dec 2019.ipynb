{
 "cells": [
  {
   "cell_type": "code",
   "execution_count": 65,
   "metadata": {},
   "outputs": [
    {
     "name": "stdout",
     "output_type": "stream",
     "text": [
      "enter no4\n",
      " 1 x 1 = 1\n",
      " 1 x 2 = 2\n",
      " 1 x 3 = 3\n",
      " 1 x 4 = 4\n",
      " 1 x 5 = 5\n",
      " 1 x 6 = 6\n",
      " 1 x 7 = 7\n",
      " 1 x 8 = 8\n",
      " 1 x 9 = 9\n",
      " 1 x 10 = 10\n",
      " 3 x 1 = 3\n",
      " 3 x 2 = 6\n",
      " 3 x 3 = 9\n",
      " 3 x 4 = 12\n",
      " 3 x 5 = 15\n",
      " 3 x 6 = 18\n",
      " 3 x 7 = 21\n",
      " 3 x 8 = 24\n",
      " 3 x 9 = 27\n",
      " 3 x 10 = 30\n",
      " 4 x 1 = 4\n",
      " 4 x 2 = 8\n",
      " 4 x 3 = 12\n",
      " 4 x 4 = 16\n",
      " 4 x 5 = 20\n",
      " 4 x 6 = 24\n",
      " 4 x 7 = 28\n",
      " 4 x 8 = 32\n",
      " 4 x 9 = 36\n",
      " 4 x 10 = 40\n"
     ]
    }
   ],
   "source": [
    "table = int(input(\"enter no\"))\n",
    "for x in range (1,table+1):\n",
    "    for y in range (1,11):\n",
    "        if x == 2:\n",
    "            continue\n",
    "        print(f\" {x} x {y} = {x*y}\")"
   ]
  },
  {
   "cell_type": "code",
   "execution_count": 11,
   "metadata": {},
   "outputs": [
    {
     "name": "stdout",
     "output_type": "stream",
     "text": [
      "['a gg']\n",
      "['a gg', 'a ff']\n",
      "['a gg', 'a ff', 'a uu']\n",
      "['a gg', 'a ff', 'a uu', 'a vv']\n",
      "['a gg', 'a ff', 'a uu', 'a vv', 'a zz']\n",
      "['a gg', 'a ff', 'a uu', 'a vv', 'a zz', 'b gg']\n",
      "['a gg', 'a ff', 'a uu', 'a vv', 'a zz', 'b gg', 'b ff']\n",
      "['a gg', 'a ff', 'a uu', 'a vv', 'a zz', 'b gg', 'b ff', 'b uu']\n",
      "['a gg', 'a ff', 'a uu', 'a vv', 'a zz', 'b gg', 'b ff', 'b uu', 'b vv']\n",
      "['a gg', 'a ff', 'a uu', 'a vv', 'a zz', 'b gg', 'b ff', 'b uu', 'b vv', 'b zz']\n",
      "['a gg', 'a ff', 'a uu', 'a vv', 'a zz', 'b gg', 'b ff', 'b uu', 'b vv', 'b zz', 'c gg']\n",
      "['a gg', 'a ff', 'a uu', 'a vv', 'a zz', 'b gg', 'b ff', 'b uu', 'b vv', 'b zz', 'c gg', 'c ff']\n",
      "['a gg', 'a ff', 'a uu', 'a vv', 'a zz', 'b gg', 'b ff', 'b uu', 'b vv', 'b zz', 'c gg', 'c ff', 'c uu']\n",
      "['a gg', 'a ff', 'a uu', 'a vv', 'a zz', 'b gg', 'b ff', 'b uu', 'b vv', 'b zz', 'c gg', 'c ff', 'c uu', 'c vv']\n",
      "['a gg', 'a ff', 'a uu', 'a vv', 'a zz', 'b gg', 'b ff', 'b uu', 'b vv', 'b zz', 'c gg', 'c ff', 'c uu', 'c vv', 'c zz']\n",
      "['a gg', 'a ff', 'a uu', 'a vv', 'a zz', 'b gg', 'b ff', 'b uu', 'b vv', 'b zz', 'c gg', 'c ff', 'c uu', 'c vv', 'c zz', 'd gg']\n",
      "['a gg', 'a ff', 'a uu', 'a vv', 'a zz', 'b gg', 'b ff', 'b uu', 'b vv', 'b zz', 'c gg', 'c ff', 'c uu', 'c vv', 'c zz', 'd gg', 'd ff']\n",
      "['a gg', 'a ff', 'a uu', 'a vv', 'a zz', 'b gg', 'b ff', 'b uu', 'b vv', 'b zz', 'c gg', 'c ff', 'c uu', 'c vv', 'c zz', 'd gg', 'd ff', 'd uu']\n",
      "['a gg', 'a ff', 'a uu', 'a vv', 'a zz', 'b gg', 'b ff', 'b uu', 'b vv', 'b zz', 'c gg', 'c ff', 'c uu', 'c vv', 'c zz', 'd gg', 'd ff', 'd uu', 'd vv']\n",
      "['a gg', 'a ff', 'a uu', 'a vv', 'a zz', 'b gg', 'b ff', 'b uu', 'b vv', 'b zz', 'c gg', 'c ff', 'c uu', 'c vv', 'c zz', 'd gg', 'd ff', 'd uu', 'd vv', 'd zz']\n",
      "['a gg', 'a ff', 'a uu', 'a vv', 'a zz', 'b gg', 'b ff', 'b uu', 'b vv', 'b zz', 'c gg', 'c ff', 'c uu', 'c vv', 'c zz', 'd gg', 'd ff', 'd uu', 'd vv', 'd zz', 'e gg']\n",
      "['a gg', 'a ff', 'a uu', 'a vv', 'a zz', 'b gg', 'b ff', 'b uu', 'b vv', 'b zz', 'c gg', 'c ff', 'c uu', 'c vv', 'c zz', 'd gg', 'd ff', 'd uu', 'd vv', 'd zz', 'e gg', 'e ff']\n",
      "['a gg', 'a ff', 'a uu', 'a vv', 'a zz', 'b gg', 'b ff', 'b uu', 'b vv', 'b zz', 'c gg', 'c ff', 'c uu', 'c vv', 'c zz', 'd gg', 'd ff', 'd uu', 'd vv', 'd zz', 'e gg', 'e ff', 'e uu']\n",
      "['a gg', 'a ff', 'a uu', 'a vv', 'a zz', 'b gg', 'b ff', 'b uu', 'b vv', 'b zz', 'c gg', 'c ff', 'c uu', 'c vv', 'c zz', 'd gg', 'd ff', 'd uu', 'd vv', 'd zz', 'e gg', 'e ff', 'e uu', 'e vv']\n",
      "['a gg', 'a ff', 'a uu', 'a vv', 'a zz', 'b gg', 'b ff', 'b uu', 'b vv', 'b zz', 'c gg', 'c ff', 'c uu', 'c vv', 'c zz', 'd gg', 'd ff', 'd uu', 'd vv', 'd zz', 'e gg', 'e ff', 'e uu', 'e vv', 'e zz']\n"
     ]
    }
   ],
   "source": [
    "first_name = [\"a\",\"b\",\"c\",\"d\",\"e\"]\n",
    "last_name =[\"gg\",\"ff\",\"uu\",\"vv\",\"zz\"]\n",
    "full_name = []\n",
    "for abz in first_name:\n",
    "    for edf in last_name:\n",
    "        full_name.append(abz+\" \"+edf)\n",
    "        print(full_name)"
   ]
  },
  {
   "cell_type": "code",
   "execution_count": 49,
   "metadata": {},
   "outputs": [
    {
     "name": "stdout",
     "output_type": "stream",
     "text": [
      "1\n",
      "2\n",
      "3\n",
      "4\n",
      "5\n",
      "6\n",
      "7\n",
      "8\n"
     ]
    }
   ],
   "source": [
    "abz = 1,2,3,4,5,6,7,8\n",
    "aab = \"a\",\"b\",\"c\",\"d\",\"e\",\"f\"\n",
    "for xyz in abz:\n",
    "    if xyz ==6:\n",
    "        for aaa in aab:\n",
    "            break\n",
    "    print(xyz)"
   ]
  },
  {
   "cell_type": "code",
   "execution_count": 36,
   "metadata": {},
   "outputs": [
    {
     "name": "stdout",
     "output_type": "stream",
     "text": [
      "pakistan\n",
      "australia\n"
     ]
    }
   ],
   "source": [
    "country = \"pakistan\",\"australia\",\"india\",\"iran\"\n",
    "for city in country:\n",
    "    if city == \"india\":\n",
    "        break\n",
    "    print(city)"
   ]
  }
 ],
 "metadata": {
  "kernelspec": {
   "display_name": "Python 3",
   "language": "python",
   "name": "python3"
  },
  "language_info": {
   "codemirror_mode": {
    "name": "ipython",
    "version": 3
   },
   "file_extension": ".py",
   "mimetype": "text/x-python",
   "name": "python",
   "nbconvert_exporter": "python",
   "pygments_lexer": "ipython3",
   "version": "3.7.1"
  }
 },
 "nbformat": 4,
 "nbformat_minor": 2
}
